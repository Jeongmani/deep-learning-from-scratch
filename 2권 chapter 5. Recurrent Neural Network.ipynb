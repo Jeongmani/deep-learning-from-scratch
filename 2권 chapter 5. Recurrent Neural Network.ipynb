{
 "cells": [
  {
   "cell_type": "markdown",
   "id": "8db16911",
   "metadata": {},
   "source": [
    "### RRN (Recurrent Neural Network"
   ]
  },
  {
   "cell_type": "markdown",
   "id": "4fb4559c",
   "metadata": {},
   "source": [
    "$h_t1  W_h + x_t W_x = h_t$"
   ]
  },
  {
   "cell_type": "markdown",
   "id": "9ac7faac",
   "metadata": {},
   "source": [
    "#### RNN 계층 구현하기"
   ]
  },
  {
   "cell_type": "code",
   "execution_count": null,
   "id": "b4b5c522",
   "metadata": {},
   "outputs": [],
   "source": [
    "class RNN:\n",
    "    def __init__(self,Wx,Wh,b):\n",
    "        self.params=[Wx,Wh,b]\n",
    "        self.grads[np.zeros_like(Wx),np.zeros_like(Wh),np.zeros_like(b)]\n",
    "        self.cache=None #역전파 계산시 사용하는 중간 데이터를 담을것\n",
    "        \n",
    "    def forward(self,x,h_prev):\n",
    "        Wx,Wh,b=self.params\n",
    "        t=np.matmul(h_prev,Wh)+np.matmul(x,Wx)+b\n",
    "        h_next=np.tanh(t)\n",
    "        \n",
    "        self.cache=(x,h_prev,h_next)\n",
    "        return h_next\n",
    "    \n",
    "    def backward(self,dh_next):\n",
    "        Wx, Wh, b =self.params\n",
    "        x,h_prev,h_next=self.cache\n",
    "        \n",
    "        dt=dh_next*(1-h_next**2)\n",
    "        db=np.sum(dt, axis=0)\n",
    "        dWh=np.matmul(h_prev.T,dt)\n",
    "        dh_prev=npmatmul(dt,Wh.T)\n",
    "        dWx=np.matmul(x.T,dt)\n",
    "        dx=np.matmul(dt,Wt.T)\n",
    "        \n",
    "        self.grad[0][...]=dWx\n",
    "        self.grad[1][...]=dWH\n",
    "        self.grad[2][...]=dWb\n",
    "        \n",
    "        return dx, dh_prev"
   ]
  },
  {
   "cell_type": "markdown",
   "id": "65c21f7e",
   "metadata": {},
   "source": [
    "#### Time RNN 계층 구현하기"
   ]
  },
  {
   "cell_type": "code",
   "execution_count": null,
   "id": "88d30413",
   "metadata": {},
   "outputs": [],
   "source": [
    "class TimeRNN:\n",
    "    def __init__(self,Wx,Wh,b,stateful=False):\n",
    "        self.params=[Wx,Wh,b]\n",
    "        self.grads=[np.zeros_like(Wx),np.zeros_like(Wh),np.zeros_like(b)]\n",
    "        self.layers=None\n",
    "        self.h,self.dh=None,None\n",
    "        self.stateful=stateful\n",
    "    \n",
    "    def set_state(self,h):\n",
    "        self.h=h\n",
    "    def reset_staet(self):\n",
    "        self.h=None\n",
    "        \n",
    "    \n",
    "    def forward(self,xs):\n",
    "        Wx,Wh,b=self.params\n",
    "        N,T,D=xs.shape\n",
    "        D,h=Wx.shape\n",
    "        \n",
    "        self.layer=[]\n",
    "        hs=np.empty((N,T,H),dtype='f')\n",
    "        \n",
    "        if not self.stateful or self.h is None:\n",
    "            self.h=np.zeros((N,H),dtype='f')\n",
    "        for t in range(T):\n",
    "            layer=RNN(*self.params)\n",
    "            self.h=layer.forward(xs[:,t,:],self.h)\n",
    "            hs[:,t,:]=self.h\n",
    "            self.layers.append(layer)\n",
    "        return hs\n",
    "    \n",
    "    def backward(self,dhs):\n",
    "        Wx,Wh,b=self.params\n",
    "        N,T,D=xs.shape\n",
    "        D,h=Wx.shape\n",
    "        \n",
    "        dxs=np.empty((N,T,D),dtype='f')\n",
    "        dh=0\n",
    "        grads=[0,0,0]\n",
    "        for t in reversed(range(T)):\n",
    "            layer=self.layer[t]\n",
    "            dx,dh=layer.backward(dhs[:,t,:]+dh) #합산된 기울기\n",
    "            dxs[:,t,:]=dx\n",
    "            \n",
    "            for i,gard in enumerate(layer.grads):\n",
    "                grads[i]+=grad\n",
    "        for i,gard in enumerate(grads):\n",
    "                self.grads[i][...]=grad\n",
    "        self.dh=dh\n",
    "        return dxs\n",
    "        "
   ]
  },
  {
   "cell_type": "code",
   "execution_count": null,
   "id": "689a6e7c",
   "metadata": {},
   "outputs": [],
   "source": []
  },
  {
   "cell_type": "code",
   "execution_count": null,
   "id": "0260260d",
   "metadata": {},
   "outputs": [],
   "source": []
  },
  {
   "cell_type": "code",
   "execution_count": null,
   "id": "143273db",
   "metadata": {},
   "outputs": [],
   "source": []
  },
  {
   "cell_type": "code",
   "execution_count": null,
   "id": "9b5b8125",
   "metadata": {},
   "outputs": [],
   "source": []
  },
  {
   "cell_type": "code",
   "execution_count": null,
   "id": "c74d882c",
   "metadata": {},
   "outputs": [],
   "source": []
  },
  {
   "cell_type": "code",
   "execution_count": null,
   "id": "0fba91dd",
   "metadata": {},
   "outputs": [],
   "source": []
  },
  {
   "cell_type": "code",
   "execution_count": null,
   "id": "4aefac39",
   "metadata": {},
   "outputs": [],
   "source": []
  }
 ],
 "metadata": {
  "kernelspec": {
   "display_name": "Python 3 (ipykernel)",
   "language": "python",
   "name": "python3"
  },
  "language_info": {
   "codemirror_mode": {
    "name": "ipython",
    "version": 3
   },
   "file_extension": ".py",
   "mimetype": "text/x-python",
   "name": "python",
   "nbconvert_exporter": "python",
   "pygments_lexer": "ipython3",
   "version": "3.9.12"
  }
 },
 "nbformat": 4,
 "nbformat_minor": 5
}
