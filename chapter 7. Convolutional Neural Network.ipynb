{
 "cells": [
  {
   "cell_type": "code",
   "execution_count": 1,
   "id": "34f6e456",
   "metadata": {},
   "outputs": [],
   "source": [
    "import numpy as np"
   ]
  },
  {
   "cell_type": "markdown",
   "id": "537851b0",
   "metadata": {},
   "source": [
    "### 합성곱 신경망"
   ]
  },
  {
   "cell_type": "markdown",
   "id": "78436893",
   "metadata": {},
   "source": [
    "합성곱 연산을 구현하려면 for문을 겹겹이 써야하지만 넘파이에 for문을 사용하면 성능이 떨어진다. 이를 위해서 for문을 대신하는 im2col을 이용할 것이다. im2col을 이용하면 4차원 데이터를 2차원으로 바꿀 수 있다."
   ]
  },
  {
   "cell_type": "code",
   "execution_count": 2,
   "id": "23234358",
   "metadata": {},
   "outputs": [],
   "source": [
    "def im2col(input_data, filter_h, filter_w, stride=1, pad=0):\n",
    "    \"\"\"다수의 이미지를 입력받아 2차원 배열로 변환한다(평탄화).\n",
    "\n",
    "    Parameters\n",
    "    ----------\n",
    "    input_data : 4차원 배열 형태의 입력 데이터(이미지 수, 채널 수, 높이, 너비)\n",
    "    filter_h : 필터의 높이\n",
    "    filter_w : 필터의 너비\n",
    "    stride : 스트라이드\n",
    "    pad : 패딩\n",
    "\n",
    "    Returns\n",
    "    -------\n",
    "    col : 2차원 배열\n",
    "    \"\"\"\n",
    "    N, C, H, W = input_data.shape\n",
    "    out_h = (H + 2*pad - filter_h)//stride + 1\n",
    "    out_w = (W + 2*pad - filter_w)//stride + 1\n",
    "\n",
    "    img = np.pad(input_data, [(0,0), (0,0), (pad, pad), (pad, pad)], 'constant')\n",
    "    col = np.zeros((N, C, filter_h, filter_w, out_h, out_w))\n",
    "\n",
    "    for y in range(filter_h):\n",
    "        y_max = y + stride*out_h\n",
    "        for x in range(filter_w):\n",
    "            x_max = x + stride*out_w\n",
    "            col[:, :, y, x, :, :] = img[:, :, y:y_max:stride, x:x_max:stride]\n",
    "\n",
    "    col = col.transpose(0, 4, 5, 1, 2, 3).reshape(N*out_h*out_w, -1)\n",
    "    return col"
   ]
  },
  {
   "cell_type": "code",
   "execution_count": 3,
   "id": "435b653e",
   "metadata": {},
   "outputs": [
    {
     "name": "stdout",
     "output_type": "stream",
     "text": [
      "(9, 75)\n"
     ]
    }
   ],
   "source": [
    "x1=np.random.rand(1,3,7,7)\n",
    "col1=im2col(x1,5,5,stride=1,pad=0)\n",
    "print(col1.shape)"
   ]
  },
  {
   "cell_type": "markdown",
   "id": "a4051e77",
   "metadata": {},
   "source": [
    "### Convolutional 계층 "
   ]
  },
  {
   "cell_type": "code",
   "execution_count": 4,
   "id": "caefbb88",
   "metadata": {},
   "outputs": [],
   "source": [
    "class Convolution:\n",
    "    def __init__(self, W, b, stride=1, pad=0):\n",
    "        self.W=W\n",
    "        self.b=b\n",
    "        self.stride=stride\n",
    "        self.pad=pad\n",
    "    \n",
    "    def forward(self,x):\n",
    "        FN, C, FH, FW = self.W.shape\n",
    "        N, C, H, W = x.shape\n",
    "        out_h= int(1+(H+2*self.pad-FH)/self.stride)\n",
    "        out_w= int(1+(W+2*self.pad-FW)/self.stride)\n",
    "        \n",
    "        col = im2col(x,FH,FW,self.stride,self.pad)\n",
    "        col_W=self.W.reshape(FN,-1).T \n",
    "        out=np.dot(col,col_W)+self.b\n",
    "        \n",
    "        out=out.reshape(N,out_h,out_w,-1).transpose(0,3,1,2)\n",
    "        \n",
    "        return out"
   ]
  },
  {
   "cell_type": "markdown",
   "id": "19a86d39",
   "metadata": {},
   "source": [
    "### Pooling 계층"
   ]
  },
  {
   "cell_type": "code",
   "execution_count": 5,
   "id": "22a51cf9",
   "metadata": {},
   "outputs": [],
   "source": [
    "class Pooling:\n",
    "    def __init__(self,pool_h,pool_w,stride=1,pad=0):\n",
    "        self.pool_h=pool_h\n",
    "        self.pool_w=pool_w\n",
    "        self.stride=stride\n",
    "        self.pad=pad\n",
    "    \n",
    "    def forward(self,x):\n",
    "        N,C,H,W=x.shape\n",
    "        out_h=int(1+(H-self.pool_h)/self.stride)\n",
    "        out_w=int(1+(W-self.pool_w)/self.stride)\n",
    "        \n",
    "        col=im2col(x,self.pool_h,self.pool_w,self.stride,self.pad)\n",
    "        \"\"\"다수의 이미지를 입력받아 2차원 배열로 변환한다(평탄화).\n",
    "\n",
    "        Parameters\n",
    "        ----------\n",
    "        input_data : 4차원 배열 형태의 입력 데이터(이미지 수, 채널 수, 높이, 너비)\n",
    "        filter_h : 필터의 높이\n",
    "        filter_w : 필터의 너비\n",
    "        stride : 스트라이드\n",
    "        pad : 패딩\n",
    "\n",
    "        Returns\n",
    "        -------\n",
    "        col : 2차원 배열\n",
    "        \"\"\"\n",
    "        col_W=col.reshape(-1,self.pool.h*slef.pool_w)\n",
    "        \n",
    "        out=np.max(col,axis=1)\n",
    "        \n",
    "        out=out.reshape(N,out_h,out_w,C).transpose(0,3,1,2)\n",
    "        \n",
    "        return out"
   ]
  }
 ],
 "metadata": {
  "kernelspec": {
   "display_name": "Python 3 (ipykernel)",
   "language": "python",
   "name": "python3"
  },
  "language_info": {
   "codemirror_mode": {
    "name": "ipython",
    "version": 3
   },
   "file_extension": ".py",
   "mimetype": "text/x-python",
   "name": "python",
   "nbconvert_exporter": "python",
   "pygments_lexer": "ipython3",
   "version": "3.9.12"
  }
 },
 "nbformat": 4,
 "nbformat_minor": 5
}
