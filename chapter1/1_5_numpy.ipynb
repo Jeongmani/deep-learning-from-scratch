{
  "nbformat": 4,
  "nbformat_minor": 0,
  "metadata": {
    "colab": {
      "name": "1.5 numpy.ipynb",
      "provenance": [],
      "collapsed_sections": []
    },
    "kernelspec": {
      "name": "python3",
      "display_name": "Python 3"
    },
    "language_info": {
      "name": "python"
    }
  },
  "cells": [
    {
      "cell_type": "markdown",
      "source": [
        "## 넘파이 Numpy"
      ],
      "metadata": {
        "id": "y9KU_z52wGVx"
      }
    },
    {
      "cell_type": "markdown",
      "source": [
        "### 넘파이 가져오기"
      ],
      "metadata": {
        "id": "8sPNZJ3BwEuL"
      }
    },
    {
      "cell_type": "code",
      "source": [
        "import numpy as np"
      ],
      "metadata": {
        "id": "zFKslj1OwSFx"
      },
      "execution_count": null,
      "outputs": []
    },
    {
      "cell_type": "markdown",
      "source": [
        "### 넘파이 배열 생성하기"
      ],
      "metadata": {
        "id": "6RVns07Wwd1T"
      }
    },
    {
      "cell_type": "code",
      "source": [
        "x=np.array([1.0,2.0,3.0])\n",
        "print(x)\n",
        "type(x) #numpy에서 제공하는 특수한 형태의 배열 numpy.ndarray"
      ],
      "metadata": {
        "colab": {
          "base_uri": "https://localhost:8080/"
        },
        "id": "UVIvJSzOwVrB",
        "outputId": "1596fcaa-33bf-4657-d5af-8e201c9ae532"
      },
      "execution_count": null,
      "outputs": [
        {
          "output_type": "stream",
          "name": "stdout",
          "text": [
            "[1. 2. 3.]\n"
          ]
        },
        {
          "output_type": "execute_result",
          "data": {
            "text/plain": [
              "numpy.ndarray"
            ]
          },
          "metadata": {},
          "execution_count": 3
        }
      ]
    },
    {
      "cell_type": "markdown",
      "source": [
        "### 넘파이의 산술연산"
      ],
      "metadata": {
        "id": "qEmF_Isyw9Wy"
      }
    },
    {
      "cell_type": "code",
      "source": [
        "x=np.array([1.0,2.0,3.0])\n",
        "y=np.array([2.0,4.0,6.0])\n",
        "print(x+y)\n",
        "print(x-y)\n",
        "print(x*y)\n",
        "print(x/y)\n",
        "# x,y의 원소의 개수가 같음\n",
        "print(x/2.0) #브로드캐스트 기능"
      ],
      "metadata": {
        "colab": {
          "base_uri": "https://localhost:8080/"
        },
        "id": "YrYj1Y9TwWCp",
        "outputId": "13961754-b80c-4ed4-c500-9d65ac1d4885"
      },
      "execution_count": null,
      "outputs": [
        {
          "output_type": "stream",
          "name": "stdout",
          "text": [
            "[3. 6. 9.]\n",
            "[-1. -2. -3.]\n",
            "[ 2.  8. 18.]\n",
            "[0.5 0.5 0.5]\n",
            "[0.5 1.  1.5]\n"
          ]
        }
      ]
    },
    {
      "cell_type": "markdown",
      "source": [
        "### 넘파이의 N차원 배열"
      ],
      "metadata": {
        "id": "YMGUoF3ExuSu"
      }
    },
    {
      "cell_type": "code",
      "source": [
        "A=np.array([[1,2],[3,4]])\n",
        "print(A)\n",
        "print(A.shape)    #(2,2) 2*2 행렬임을 알 수 있다.\n",
        "A.dtype"
      ],
      "metadata": {
        "colab": {
          "base_uri": "https://localhost:8080/"
        },
        "id": "T8eBMUggwWMk",
        "outputId": "1ae4576e-7817-43d8-fd44-dadbb908543b"
      },
      "execution_count": null,
      "outputs": [
        {
          "output_type": "stream",
          "name": "stdout",
          "text": [
            "[[1 2]\n",
            " [3 4]]\n",
            "(2, 2)\n"
          ]
        },
        {
          "output_type": "execute_result",
          "data": {
            "text/plain": [
              "dtype('int64')"
            ]
          },
          "metadata": {},
          "execution_count": 5
        }
      ]
    },
    {
      "cell_type": "code",
      "source": [
        "B=np.array([[3,0],[0,6]])\n",
        "print(A+B)\n",
        "print(A*B)"
      ],
      "metadata": {
        "colab": {
          "base_uri": "https://localhost:8080/"
        },
        "id": "7n4EHEhowWa9",
        "outputId": "be7522ee-83ca-4ab6-af14-c11ae8a16647"
      },
      "execution_count": null,
      "outputs": [
        {
          "output_type": "stream",
          "name": "stdout",
          "text": [
            "[[ 4  2]\n",
            " [ 3 10]]\n",
            "[[ 3  0]\n",
            " [ 0 24]]\n"
          ]
        }
      ]
    },
    {
      "cell_type": "markdown",
      "source": [
        "### 브로드캐스트\n",
        "- 크기가 다른 배열을 계산해줌"
      ],
      "metadata": {
        "id": "MQPZuwkWyjyY"
      }
    },
    {
      "cell_type": "code",
      "source": [
        "A=np.array([[1,2],[3,4]])\n",
        "B=np.array([10,20])  #B배열을 (2,2)행렬로 확대한 후 연산을 진행\n",
        "print(A*B) "
      ],
      "metadata": {
        "colab": {
          "base_uri": "https://localhost:8080/"
        },
        "id": "NIEcqNJ4wWtR",
        "outputId": "3bfd34f0-577a-4c05-bf6b-ed43f8c343cf"
      },
      "execution_count": null,
      "outputs": [
        {
          "output_type": "stream",
          "name": "stdout",
          "text": [
            "[[10 40]\n",
            " [30 80]]\n"
          ]
        }
      ]
    },
    {
      "cell_type": "markdown",
      "source": [
        "### 원소 접근"
      ],
      "metadata": {
        "id": "qTowymbrzcDw"
      }
    },
    {
      "cell_type": "code",
      "source": [
        "X=np.array([[51,55],[14,19],[0,4]])\n",
        "print(X)\n",
        "print(X[0])\n",
        "print(X[0][1])\n",
        "\n",
        "for row in X:\n",
        "  print(row)\n",
        "\n",
        "X=X.flatten() #X를 1차원 배열로 변환(평탄화)\n",
        "print(X)\n",
        "X[np.array([0,2,4])] #0,2,4번째 인덱스 얻기"
      ],
      "metadata": {
        "colab": {
          "base_uri": "https://localhost:8080/"
        },
        "id": "oUBe7ovywW30",
        "outputId": "bb7a3aaa-708e-430d-8bfd-8a14c39e11ad"
      },
      "execution_count": null,
      "outputs": [
        {
          "output_type": "stream",
          "name": "stdout",
          "text": [
            "[[51 55]\n",
            " [14 19]\n",
            " [ 0  4]]\n",
            "[51 55]\n",
            "55\n",
            "[51 55]\n",
            "[14 19]\n",
            "[0 4]\n",
            "[51 55 14 19  0  4]\n"
          ]
        },
        {
          "output_type": "execute_result",
          "data": {
            "text/plain": [
              "array([51, 14,  0])"
            ]
          },
          "metadata": {},
          "execution_count": 11
        }
      ]
    }
  ]
}