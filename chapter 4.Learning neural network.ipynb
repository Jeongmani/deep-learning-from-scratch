{
 "cells": [
  {
   "cell_type": "markdown",
   "id": "ac72c4eb",
   "metadata": {},
   "source": [
    "## 신경망 학습"
   ]
  },
  {
   "cell_type": "code",
   "execution_count": 1,
   "id": "ee08d966",
   "metadata": {},
   "outputs": [],
   "source": [
    "import numpy as np"
   ]
  },
  {
   "cell_type": "markdown",
   "id": "65eaeb77",
   "metadata": {},
   "source": [
    "### 데이터 학습\n",
    "#### 신경망 학습\n",
    ">학습이란 = 훈련 데이터로부터 가중치 매개변수의 최적값을 자동으로 획득하는 것"
   ]
  },
  {
   "cell_type": "markdown",
   "id": "34ea52fe",
   "metadata": {},
   "source": [
    "### 손실함수"
   ]
  },
  {
   "cell_type": "markdown",
   "id": "b0aeb7ce",
   "metadata": {},
   "source": [
    "##### 1. 평균 제곱 오차\n",
    "$E=\\frac{1}{2}\\sum_{k}^{} {(y_k-t_k)^2}\\\\y_k= 신경망의 출력, t_k= 정답 레이블, k= 데이터의 차원수$"
   ]
  },
  {
   "cell_type": "code",
   "execution_count": 2,
   "id": "b99aff96",
   "metadata": {},
   "outputs": [],
   "source": [
    "def mean_squared_error(y,t):\n",
    "    return 0.5*np.sum((y-t)**2)"
   ]
  },
  {
   "cell_type": "code",
   "execution_count": 3,
   "id": "6bf15a35",
   "metadata": {},
   "outputs": [
    {
     "name": "stdout",
     "output_type": "stream",
     "text": [
      "0.09750000000000003\n",
      "0.5975\n"
     ]
    }
   ],
   "source": [
    "t=[0,0,1,0,0,0,0,0,0,0]                         #정답 레이블 '2'\n",
    "y=[0.1,0.05,0.6,0.0,0.05,0.1,0.0,0.1,0.0,0.0]   #정답이 '2'라고 추정함 (0.6)\n",
    "print(mean_squared_error(np.array(y),np.array(t)))\n",
    "y=[0.1,0.05,0.1,0.0,0.05,0.1,0.0,0.6,0.0,0.0]\n",
    "print(mean_squared_error(np.array(y),np.array(t))) #정답이 '7'이라고 추정함(0.6)"
   ]
  },
  {
   "cell_type": "markdown",
   "id": "c53dd5ad",
   "metadata": {},
   "source": [
    "##### 2. 교차 엔트로피 오차\n",
    "$E=-\\sum_{k}^{} {t_klog_e y_k}\\\\y_k= 신경망의 출력, t_k= 정답 레이블, k= 데이터의 차원수$"
   ]
  },
  {
   "cell_type": "code",
   "execution_count": 4,
   "id": "44cfa420",
   "metadata": {},
   "outputs": [],
   "source": [
    "def cross_entropy_error(y,t):\n",
    "    delta=1e-7    #log0을 방지하기 위해서\n",
    "    return -np.sum(t*np.log(y+delta))"
   ]
  },
  {
   "cell_type": "code",
   "execution_count": 5,
   "id": "32b4a066",
   "metadata": {},
   "outputs": [
    {
     "name": "stdout",
     "output_type": "stream",
     "text": [
      "0.510825457099338\n",
      "2.302584092994546\n"
     ]
    }
   ],
   "source": [
    "t=[0,0,1,0,0,0,0,0,0,0]                         #정답 레이블 '2'\n",
    "y=[0.1,0.05,0.6,0.0,0.05,0.1,0.0,0.1,0.0,0.0]\n",
    "print(cross_entropy_error(np.array(y),np.array(t)))\n",
    "y=y=[0.1,0.05,0.1,0.0,0.05,0.1,0.0,0.6,0.0,0.0]\n",
    "print(cross_entropy_error(np.array(y),np.array(t)))"
   ]
  },
  {
   "cell_type": "markdown",
   "id": "55f2c038",
   "metadata": {},
   "source": [
    "#### 손글씨 숫자 인식"
   ]
  },
  {
   "cell_type": "code",
   "execution_count": 6,
   "id": "1e3d9da4",
   "metadata": {},
   "outputs": [
    {
     "name": "stdout",
     "output_type": "stream",
     "text": [
      "(60000, 784)\n",
      "(60000,)\n",
      "(10000, 784)\n",
      "(10000,)\n"
     ]
    }
   ],
   "source": [
    "import sys, os\n",
    "sys.path.append(os.pardir)\n",
    "from dataset.mnist import load_mnist\n",
    "\n",
    "(x_train, t_train),(x_test, t_test)=load_mnist(flatten=True, normalize=False)\n",
    "\n",
    "print(x_train.shape)\n",
    "print(t_train.shape)\n",
    "print(x_test.shape)\n",
    "print(t_test.shape)"
   ]
  },
  {
   "cell_type": "code",
   "execution_count": 7,
   "id": "019b547d",
   "metadata": {},
   "outputs": [
    {
     "data": {
      "text/plain": [
       "array([31550, 46328,  2118, 59099, 29424, 39404, 47305, 27020, 42178,\n",
       "       25877])"
      ]
     },
     "execution_count": 7,
     "metadata": {},
     "output_type": "execute_result"
    }
   ],
   "source": [
    "np.random.choice(60000,10)"
   ]
  },
  {
   "cell_type": "markdown",
   "id": "f64e217b",
   "metadata": {},
   "source": [
    "- 정답 레이블이 원-핫 인코딩인 경우"
   ]
  },
  {
   "cell_type": "code",
   "execution_count": 8,
   "id": "ab3dfde8",
   "metadata": {},
   "outputs": [],
   "source": [
    "def cross_entropy_error(y,t):\n",
    "    if y.ndim==1:\n",
    "        t=t.reshape(1,t.size)\n",
    "        y=y.reshape(1,y.size)\n",
    "    batch_size=y.shape[0]\n",
    "    return -np.sum(t*np.log(y))/batch_size"
   ]
  },
  {
   "cell_type": "markdown",
   "id": "38d2d8dd",
   "metadata": {},
   "source": [
    "- 정답 레이블이 원-핫 인코딩이 아닌 경우"
   ]
  },
  {
   "cell_type": "code",
   "execution_count": 9,
   "id": "610c8ab4",
   "metadata": {},
   "outputs": [],
   "source": [
    "def cross_entropy_error(y,t):\n",
    "    if y.ndim==1:\n",
    "        t=t.reshape(1,t.size)\n",
    "        y=y.reshape(1,y.size)\n",
    "    batch_size=y.shape[0]\n",
    "    return -np.sum(t*np.log(y[np.arange(batch_size),t]))/batch_size"
   ]
  },
  {
   "cell_type": "markdown",
   "id": "6829d681",
   "metadata": {},
   "source": [
    "#### 왜 손실함수를 설정하는가?\n",
    "신경망을 학습할 때 정확도를 지표로 삼아서는 안 된다. 정확도를 지표로 하면 매개변수의 미분이 대부분의 장소에서 0이 되기 때문이다"
   ]
  },
  {
   "cell_type": "markdown",
   "id": "4e354864",
   "metadata": {},
   "source": [
    "### 수치 미분"
   ]
  },
  {
   "cell_type": "markdown",
   "id": "ccc82500",
   "metadata": {},
   "source": [
    "미분의 정의를 이용한 식에는 2가지 문제점이 있다\n",
    "1. h를 가급적 작은 값을 대입해도 반올림 오차 문제를 일으켜 0.0으로 컴퓨터가 계산하는데 문제가 생긴다\n",
    "2. 함수 f으 차분 x+h와 x사이의 함수 f의 차분을 계산하지만, h를 무한히 0으로 좁히는 것이 불가능해 생기는 한계"
   ]
  },
  {
   "cell_type": "markdown",
   "id": "32b540b0",
   "metadata": {},
   "source": [
    "개전점을 적용한 수치 미분"
   ]
  },
  {
   "cell_type": "code",
   "execution_count": 10,
   "id": "4683bd4e",
   "metadata": {},
   "outputs": [],
   "source": [
    "def numerical_diff(f,x):\n",
    "    h=1e-4 #0.0001\n",
    "    return (f(x+h)-f(x-h))/(2*h)"
   ]
  },
  {
   "cell_type": "markdown",
   "id": "c70557c6",
   "metadata": {},
   "source": [
    "간단한 함수를 미분해보자\n",
    "$$y=0.01x^2+0.1x$$"
   ]
  },
  {
   "cell_type": "code",
   "execution_count": 11,
   "id": "11866bcd",
   "metadata": {},
   "outputs": [],
   "source": [
    "def function_1(x):\n",
    "    return 0.01*x**2+0.1*x"
   ]
  },
  {
   "cell_type": "code",
   "execution_count": 12,
   "id": "9b698339",
   "metadata": {},
   "outputs": [
    {
     "data": {
      "image/png": "[encoded data removed]",
      "text/plain": [
       "<Figure size 432x288 with 1 Axes>"
      ]
     },
     "metadata": {
      "needs_background": "light"
     },
     "output_type": "display_data"
    }
   ],
   "source": [
    "import matplotlib.pylab as plt\n",
    "\n",
    "x=np.arange(0.0,20.0,0.1)\n",
    "y=function_1(x)\n",
    "plt.xlabel(\"x\")\n",
    "plt.ylabel(\"f(x)\")\n",
    "plt.plot(x,y)\n",
    "plt.show()"
   ]
  },
  {
   "cell_type": "code",
   "execution_count": 13,
   "id": "5125f380",
   "metadata": {},
   "outputs": [
    {
     "name": "stdout",
     "output_type": "stream",
     "text": [
      "0.1999999999990898\n",
      "0.2999999999986347\n"
     ]
    }
   ],
   "source": [
    "print(numerical_diff(function_1,5))\n",
    "print(numerical_diff(function_1,10))"
   ]
  },
  {
   "cell_type": "markdown",
   "id": "27612496",
   "metadata": {},
   "source": [
    "### 편미분"
   ]
  },
  {
   "cell_type": "markdown",
   "id": "346f195d",
   "metadata": {},
   "source": [
    "$$f(x_0,x_1)=x_0^2+x_1^2$$"
   ]
  },
  {
   "cell_type": "code",
   "execution_count": 14,
   "id": "2c7ebec1",
   "metadata": {},
   "outputs": [],
   "source": [
    "def function_2(x):\n",
    "    return x[0]**2+x[1]**2"
   ]
  },
  {
   "cell_type": "markdown",
   "id": "ff23d263",
   "metadata": {},
   "source": [
    "예시1. $x_0 =3, x_1=4$ 일때, $x_0$에 대한 편미분을 구하라"
   ]
  },
  {
   "cell_type": "code",
   "execution_count": 15,
   "id": "8f73b341",
   "metadata": {},
   "outputs": [
    {
     "data": {
      "text/plain": [
       "6.00000000000378"
      ]
     },
     "execution_count": 15,
     "metadata": {},
     "output_type": "execute_result"
    }
   ],
   "source": [
    "def function_tmp1(x0):\n",
    "    return x0*x0+4.0**2\n",
    "numerical_diff(function_tmp1,3.0)"
   ]
  },
  {
   "cell_type": "markdown",
   "id": "b1132441",
   "metadata": {},
   "source": [
    "예시2. $x_0 =3, x_1=4$ 일때, $x_1$에 대한 편미분을 구하라"
   ]
  },
  {
   "cell_type": "code",
   "execution_count": 16,
   "id": "4722fa19",
   "metadata": {},
   "outputs": [
    {
     "data": {
      "text/plain": [
       "7.999999999999119"
      ]
     },
     "execution_count": 16,
     "metadata": {},
     "output_type": "execute_result"
    }
   ],
   "source": [
    "def function_tmp2(x1):\n",
    "    return 3.0**2+x1*x1\n",
    "numerical_diff(function_tmp1,4.0)"
   ]
  },
  {
   "cell_type": "markdown",
   "id": "b455041b",
   "metadata": {},
   "source": [
    "### 기울기"
   ]
  },
  {
   "cell_type": "markdown",
   "id": "eb037bdd",
   "metadata": {},
   "source": [
    "$x_0$ 와 $x_1$의 편미분을 동시에 계산해서 벡터로 정리한 것을 기울기"
   ]
  },
  {
   "cell_type": "code",
   "execution_count": 17,
   "id": "68befecc",
   "metadata": {},
   "outputs": [],
   "source": [
    "def numerical_gradient(f,x):\n",
    "    h= 1e-4\n",
    "    grad=np.zeros_like(x)  #x와 같은 형상의 배열을 생성\n",
    "    for idx in range(x.size):\n",
    "        tmp_val=x[idx]\n",
    "        #f(x+h) 계산\n",
    "        x[idx]= tmp_val+h\n",
    "        fxh1=f(x)\n",
    "        #f(x-h) 계산\n",
    "        x[idx]=tmp_val-h\n",
    "        fxh2=f(x)\n",
    "        \n",
    "        grad[idx]=(fxh1-fxh2)/(2*h)\n",
    "        x[idx]=tmp_val\n",
    "    return grad"
   ]
  },
  {
   "cell_type": "code",
   "execution_count": 19,
   "id": "3b4f2f69",
   "metadata": {},
   "outputs": [
    {
     "name": "stdout",
     "output_type": "stream",
     "text": [
      "[6. 8.]\n",
      "[0. 8.]\n",
      "[6. 0.]\n"
     ]
    }
   ],
   "source": [
    "print(numerical_gradient(function_2,np.array([3.0,4.0]))) #(3,4)에서의 기울기\n",
    "print(numerical_gradient(function_2,np.array([0,4.0])))   #(0,4)에서의 기울기\n",
    "print(numerical_gradient(function_2,np.array([3.0,0])))   #(3,0)에서의 기울기"
   ]
  },
  {
   "cell_type": "code",
   "execution_count": null,
   "id": "c9bd1a72",
   "metadata": {},
   "outputs": [],
   "source": []
  },
  {
   "cell_type": "code",
   "execution_count": null,
   "id": "47aeb775",
   "metadata": {},
   "outputs": [],
   "source": []
  },
  {
   "cell_type": "code",
   "execution_count": null,
   "id": "5c2c16db",
   "metadata": {},
   "outputs": [],
   "source": []
  }
 ],
 "metadata": {
  "kernelspec": {
   "display_name": "Python 3 (ipykernel)",
   "language": "python",
   "name": "python3"
  },
  "language_info": {
   "codemirror_mode": {
    "name": "ipython",
    "version": 3
   },
   "file_extension": ".py",
   "mimetype": "text/x-python",
   "name": "python",
   "nbconvert_exporter": "python",
   "pygments_lexer": "ipython3",
   "version": "3.9.7"
  }
 },
 "nbformat": 4,
 "nbformat_minor": 5
}
