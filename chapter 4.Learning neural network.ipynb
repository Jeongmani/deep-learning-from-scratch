{
 "cells": [
  {
   "cell_type": "markdown",
   "id": "ac72c4eb",
   "metadata": {},
   "source": [
    "## 신경망 학습"
   ]
  },
  {
   "cell_type": "code",
   "execution_count": 1,
   "id": "ee08d966",
   "metadata": {},
   "outputs": [],
   "source": [
    "import numpy as np"
   ]
  },
  {
   "cell_type": "markdown",
   "id": "65eaeb77",
   "metadata": {},
   "source": [
    "### 데이터 학습\n",
    "#### 신경망 학습\n",
    ">학습이란 = 훈련 데이터로부터 가중치 매개변수의 최적값을 자동으로 획득하는 것"
   ]
  },
  {
   "cell_type": "markdown",
   "id": "34ea52fe",
   "metadata": {},
   "source": [
    "### 손실함수"
   ]
  },
  {
   "cell_type": "markdown",
   "id": "b0aeb7ce",
   "metadata": {},
   "source": [
    "##### 1. 평균 제곱 오차\n",
    "$E=\\frac{1}{2}\\sum_{k}^{} {(y_k-t_k)^2}\\\\y_k= 신경망의 출력, t_k= 정답 레이블, k= 데이터의 차원수$"
   ]
  },
  {
   "cell_type": "code",
   "execution_count": 2,
   "id": "b99aff96",
   "metadata": {},
   "outputs": [],
   "source": [
    "def mean_squared_error(y,t):\n",
    "    return 0.5*np.sum((y-t)**2)"
   ]
  },
  {
   "cell_type": "code",
   "execution_count": 3,
   "id": "6bf15a35",
   "metadata": {},
   "outputs": [
    {
     "name": "stdout",
     "output_type": "stream",
     "text": [
      "0.09750000000000003\n",
      "0.5975\n"
     ]
    }
   ],
   "source": [
    "t=[0,0,1,0,0,0,0,0,0,0]                         #정답 레이블 '2'\n",
    "y=[0.1,0.05,0.6,0.0,0.05,0.1,0.0,0.1,0.0,0.0]   #정답이 '2'라고 추정함 (0.6)\n",
    "print(mean_squared_error(np.array(y),np.array(t)))\n",
    "y=[0.1,0.05,0.1,0.0,0.05,0.1,0.0,0.6,0.0,0.0]\n",
    "print(mean_squared_error(np.array(y),np.array(t))) #정답이 '7'이라고 추정함(0.6)"
   ]
  },
  {
   "cell_type": "markdown",
   "id": "c53dd5ad",
   "metadata": {},
   "source": [
    "##### 2. 교차 엔트로피 오차\n",
    "$E=-\\sum_{k}^{} {t_klog_e y_k}\\\\y_k= 신경망의 출력, t_k= 정답 레이블, k= 데이터의 차원수$"
   ]
  },
  {
   "cell_type": "code",
   "execution_count": 4,
   "id": "44cfa420",
   "metadata": {},
   "outputs": [],
   "source": [
    "def cross_entropy_error(y,t):\n",
    "    delta=1e-7    #log0을 방지하기 위해서\n",
    "    return -np.sum(t*np.log(y+delta))"
   ]
  },
  {
   "cell_type": "code",
   "execution_count": 5,
   "id": "32b4a066",
   "metadata": {},
   "outputs": [
    {
     "name": "stdout",
     "output_type": "stream",
     "text": [
      "0.510825457099338\n",
      "2.302584092994546\n"
     ]
    }
   ],
   "source": [
    "t=[0,0,1,0,0,0,0,0,0,0]                         #정답 레이블 '2'\n",
    "y=[0.1,0.05,0.6,0.0,0.05,0.1,0.0,0.1,0.0,0.0]\n",
    "print(cross_entropy_error(np.array(y),np.array(t)))\n",
    "y=y=[0.1,0.05,0.1,0.0,0.05,0.1,0.0,0.6,0.0,0.0]\n",
    "print(cross_entropy_error(np.array(y),np.array(t)))"
   ]
  },
  {
   "cell_type": "markdown",
   "id": "55f2c038",
   "metadata": {},
   "source": [
    "#### 손글씨 숫자 인식"
   ]
  },
  {
   "cell_type": "code",
   "execution_count": 6,
   "id": "1e3d9da4",
   "metadata": {},
   "outputs": [
    {
     "name": "stdout",
     "output_type": "stream",
     "text": [
      "(60000, 784)\n",
      "(60000,)\n",
      "(10000, 784)\n",
      "(10000,)\n"
     ]
    }
   ],
   "source": [
    "import sys, os\n",
    "sys.path.append(os.pardir)\n",
    "from dataset.mnist import load_mnist\n",
    "\n",
    "(x_train, t_train),(x_test, t_test)=load_mnist(flatten=True, normalize=False)\n",
    "\n",
    "print(x_train.shape)\n",
    "print(t_train.shape)\n",
    "print(x_test.shape)\n",
    "print(t_test.shape)"
   ]
  },
  {
   "cell_type": "code",
   "execution_count": 7,
   "id": "019b547d",
   "metadata": {},
   "outputs": [
    {
     "data": {
      "text/plain": [
       "array([38138, 11449, 48814, 55271,  7759,  8716, 59895, 23187, 43753,\n",
       "        8856])"
      ]
     },
     "execution_count": 7,
     "metadata": {},
     "output_type": "execute_result"
    }
   ],
   "source": [
    "np.random.choice(60000,10)"
   ]
  },
  {
   "cell_type": "markdown",
   "id": "f64e217b",
   "metadata": {},
   "source": [
    "- 정답 레이블이 원-핫 인코딩인 경우"
   ]
  },
  {
   "cell_type": "code",
   "execution_count": 8,
   "id": "ab3dfde8",
   "metadata": {},
   "outputs": [],
   "source": [
    "def cross_entropy_error(y,t):\n",
    "    if y.ndim==1:\n",
    "        t=t.reshape(1,t.size)\n",
    "        y=y.reshape(1,y.size)\n",
    "    batch_size=y.shape[0]\n",
    "    return -np.sum(t*np.log(y))/batch_size"
   ]
  },
  {
   "cell_type": "markdown",
   "id": "38d2d8dd",
   "metadata": {},
   "source": [
    "- 정답 레이블이 원-핫 인코딩이 아닌 경우"
   ]
  },
  {
   "cell_type": "code",
   "execution_count": 9,
   "id": "610c8ab4",
   "metadata": {},
   "outputs": [],
   "source": [
    "def cross_entropy_error(y,t):\n",
    "    if y.ndim==1:\n",
    "        t=t.reshape(1,t.size)\n",
    "        y=y.reshape(1,y.size)\n",
    "    batch_size=y.shape[0]\n",
    "    return -np.sum(t*np.log(y[np.arange(batch_size),t]))/batch_size"
   ]
  },
  {
   "cell_type": "markdown",
   "id": "6829d681",
   "metadata": {},
   "source": [
    "#### 왜 손실함수를 설정하는가?\n",
    "신경망을 학습할 때 정확도를 지표로 삼아서는 안 된다. 정확도를 지표로 하면 매개변수의 미분이 대부분의 장소에서 0이 되기 때문이다"
   ]
  },
  {
   "cell_type": "markdown",
   "id": "4e354864",
   "metadata": {},
   "source": [
    "### 수치 미분"
   ]
  },
  {
   "cell_type": "markdown",
   "id": "ccc82500",
   "metadata": {},
   "source": [
    "미분의 정의를 이용한 식에는 2가지 문제점이 있다\n",
    "1. h를 가급적 작은 값을 대입해도 반올림 오차 문제를 일으켜 0.0으로 컴퓨터가 계산하는데 문제가 생긴다\n",
    "2. 함수 f으 차분 x+h와 x사이의 함수 f의 차분을 계산하지만, h를 무한히 0으로 좁히는 것이 불가능해 생기는 한계"
   ]
  },
  {
   "cell_type": "markdown",
   "id": "32b540b0",
   "metadata": {},
   "source": [
    "개전점을 적용한 수치 미분"
   ]
  },
  {
   "cell_type": "code",
   "execution_count": 10,
   "id": "4683bd4e",
   "metadata": {},
   "outputs": [],
   "source": [
    "def numerical_diff(f,x):\n",
    "    h=1e-4 #0.0001\n",
    "    return (f(x+h)-f(x-h))/(2*h)"
   ]
  },
  {
   "cell_type": "markdown",
   "id": "c70557c6",
   "metadata": {},
   "source": [
    "간단한 함수를 미분해보자\n",
    "$$y=0.01x^2+0.1x$$"
   ]
  },
  {
   "cell_type": "code",
   "execution_count": 11,
   "id": "11866bcd",
   "metadata": {},
   "outputs": [],
   "source": [
    "def function_1(x):\n",
    "    return 0.01*x**2+0.1*x"
   ]
  },
  {
   "cell_type": "code",
   "execution_count": 12,
   "id": "9b698339",
   "metadata": {},
   "outputs": [
    {
     "data": {
      "image/png": "[encoded data removed]",
      "text/plain": [
       "<Figure size 432x288 with 1 Axes>"
      ]
     },
     "metadata": {
      "needs_background": "light"
     },
     "output_type": "display_data"
    }
   ],
   "source": [
    "import matplotlib.pylab as plt\n",
    "\n",
    "x=np.arange(0.0,20.0,0.1)\n",
    "y=function_1(x)\n",
    "plt.xlabel(\"x\")\n",
    "plt.ylabel(\"f(x)\")\n",
    "plt.plot(x,y)\n",
    "plt.show()"
   ]
  },
  {
   "cell_type": "code",
   "execution_count": 13,
   "id": "5125f380",
   "metadata": {},
   "outputs": [
    {
     "name": "stdout",
     "output_type": "stream",
     "text": [
      "0.1999999999990898\n",
      "0.2999999999986347\n"
     ]
    }
   ],
   "source": [
    "print(numerical_diff(function_1,5))\n",
    "print(numerical_diff(function_1,10))"
   ]
  },
  {
   "cell_type": "markdown",
   "id": "27612496",
   "metadata": {},
   "source": [
    "### 편미분"
   ]
  },
  {
   "cell_type": "markdown",
   "id": "346f195d",
   "metadata": {},
   "source": [
    "$$f(x_0,x_1)=x_0^2+x_1^2$$"
   ]
  },
  {
   "cell_type": "code",
   "execution_count": 14,
   "id": "2c7ebec1",
   "metadata": {},
   "outputs": [],
   "source": [
    "def function_2(x):\n",
    "    return x[0]**2+x[1]**2"
   ]
  },
  {
   "cell_type": "markdown",
   "id": "ff23d263",
   "metadata": {},
   "source": [
    "예시1. $x_0 =3, x_1=4$ 일때, $x_0$에 대한 편미분을 구하라"
   ]
  },
  {
   "cell_type": "code",
   "execution_count": 15,
   "id": "8f73b341",
   "metadata": {},
   "outputs": [
    {
     "data": {
      "text/plain": [
       "6.00000000000378"
      ]
     },
     "execution_count": 15,
     "metadata": {},
     "output_type": "execute_result"
    }
   ],
   "source": [
    "def function_tmp1(x0):\n",
    "    return x0*x0+4.0**2\n",
    "numerical_diff(function_tmp1,3.0)"
   ]
  },
  {
   "cell_type": "markdown",
   "id": "b1132441",
   "metadata": {},
   "source": [
    "예시2. $x_0 =3, x_1=4$ 일때, $x_1$에 대한 편미분을 구하라"
   ]
  },
  {
   "cell_type": "code",
   "execution_count": 16,
   "id": "4722fa19",
   "metadata": {},
   "outputs": [
    {
     "data": {
      "text/plain": [
       "7.999999999999119"
      ]
     },
     "execution_count": 16,
     "metadata": {},
     "output_type": "execute_result"
    }
   ],
   "source": [
    "def function_tmp2(x1):\n",
    "    return 3.0**2+x1*x1\n",
    "numerical_diff(function_tmp1,4.0)"
   ]
  },
  {
   "cell_type": "markdown",
   "id": "b455041b",
   "metadata": {},
   "source": [
    "### 기울기"
   ]
  },
  {
   "cell_type": "markdown",
   "id": "eb037bdd",
   "metadata": {},
   "source": [
    "$x_0$ 와 $x_1$의 편미분을 동시에 계산해서 벡터로 정리한 것을 기울기"
   ]
  },
  {
   "cell_type": "code",
   "execution_count": 17,
   "id": "68befecc",
   "metadata": {},
   "outputs": [],
   "source": [
    "def numerical_gradient(f,x):\n",
    "    h= 1e-4\n",
    "    grad=np.zeros_like(x)  #x와 같은 형상의 배열을 생성\n",
    "    for idx in range(x.size):\n",
    "        tmp_val=x[idx]\n",
    "        #f(x+h) 계산\n",
    "        x[idx]= tmp_val+h\n",
    "        fxh1=f(x)\n",
    "        #f(x-h) 계산\n",
    "        x[idx]=tmp_val-h\n",
    "        fxh2=f(x)\n",
    "        \n",
    "        grad[idx]=(fxh1-fxh2)/(2*h)\n",
    "        x[idx]=tmp_val\n",
    "    return grad"
   ]
  },
  {
   "cell_type": "code",
   "execution_count": 18,
   "id": "3b4f2f69",
   "metadata": {},
   "outputs": [
    {
     "name": "stdout",
     "output_type": "stream",
     "text": [
      "[6. 8.]\n",
      "[0. 8.]\n",
      "[6. 0.]\n"
     ]
    }
   ],
   "source": [
    "print(numerical_gradient(function_2,np.array([3.0,4.0]))) #(3,4)에서의 기울기\n",
    "print(numerical_gradient(function_2,np.array([0,4.0])))   #(0,4)에서의 기울기\n",
    "print(numerical_gradient(function_2,np.array([3.0,0])))   #(3,0)에서의 기울기"
   ]
  },
  {
   "cell_type": "markdown",
   "id": "1447ae88",
   "metadata": {},
   "source": [
    "#### 경사하강법\n",
    "기계학습은 대부분 학습단계에서 최적의 매개변수를 찾아낸다. 신경망 역시 최적의 매개변수를 학습 시에 찾아야한다. 여기서 최적이란, 손실 함수가 최솟값이 될 때의 매개변수 값이다."
   ]
  },
  {
   "cell_type": "markdown",
   "id": "19554e1d",
   "metadata": {},
   "source": [
    "경사법: 현 위치에서 기울어진 방향으로 일정 거리만큼 이동한다. 그런 다음 이동한 곳에서도 기울기를 구하고 또 그 기울어진 방향으로 나아가기를 반복\n"
   ]
  },
  {
   "cell_type": "code",
   "execution_count": 19,
   "id": "5c2c16db",
   "metadata": {},
   "outputs": [],
   "source": [
    "def gradient_descent(f,init_x,lr=0.01,step_num=100):\n",
    "    x=init_x\n",
    "    for i in range(step_num):\n",
    "        grad=numerical_gradient(f,x)\n",
    "        x-=lr*grad\n",
    "    return x\n",
    "# f=최적화하려는 함수, init_x= 초깃값, lr=learning rate, step_num= 경사법에 따른 반복횟수"
   ]
  },
  {
   "cell_type": "markdown",
   "id": "b4c7dcb7",
   "metadata": {},
   "source": [
    "연습문제:경사법으로 $f(x_0,x_1)=x_0^2+x_1^2$의 최솟값을 구하라"
   ]
  },
  {
   "cell_type": "code",
   "execution_count": 20,
   "id": "7f9cea51",
   "metadata": {},
   "outputs": [
    {
     "data": {
      "text/plain": [
       "array([-6.11110793e-10,  8.14814391e-10])"
      ]
     },
     "execution_count": 20,
     "metadata": {},
     "output_type": "execute_result"
    }
   ],
   "source": [
    "def function_2(x):\n",
    "    return x[0]**2+x[1]**2\n",
    "init_x=np.array([-3.0,4.0])\n",
    "gradient_descent(function_2,init_x=init_x,lr=0.1,step_num=100)"
   ]
  },
  {
   "cell_type": "code",
   "execution_count": 21,
   "id": "c88e3821",
   "metadata": {},
   "outputs": [
    {
     "data": {
      "text/plain": [
       "array([-2.58983747e+13, -1.29524862e+12])"
      ]
     },
     "execution_count": 21,
     "metadata": {},
     "output_type": "execute_result"
    }
   ],
   "source": [
    "#학습률이 너무 큰 예 : lr=10.0\n",
    "init_x=np.array([-3.0,4.0])\n",
    "gradient_descent(function_2,init_x=init_x,lr=10.0,step_num=100)\n",
    "#발산함."
   ]
  },
  {
   "cell_type": "code",
   "execution_count": 22,
   "id": "94b60706",
   "metadata": {},
   "outputs": [
    {
     "data": {
      "text/plain": [
       "array([-2.99999994,  3.99999992])"
      ]
     },
     "execution_count": 22,
     "metadata": {},
     "output_type": "execute_result"
    }
   ],
   "source": [
    "#학습률이 너무 작은 예: 1e-10\n",
    "init_x=np.array([-3.0,4.0])\n",
    "gradient_descent(function_2,init_x=init_x,lr=1e-10,step_num=100)\n",
    "#거의 갱신되지 않음."
   ]
  },
  {
   "cell_type": "markdown",
   "id": "bc254cfe",
   "metadata": {},
   "source": [
    "#### 신경망에서의 기울기\n",
    "신경망에서의 기울기란 가중치 매개변수에 대한 손실 함수의 기울기\n",
    "$$W=\n",
    " \\begin{pmatrix}\n",
    "  w_{11} & w_{12} & w_{13}\\\\\n",
    "  w_{21} & w_{22} & w_{23}\n",
    " \\end{pmatrix}$$\n",
    "각 원소에 대한 편미분값"
   ]
  },
  {
   "cell_type": "code",
   "execution_count": 23,
   "id": "e8d6b98b",
   "metadata": {},
   "outputs": [],
   "source": [
    "import sys, os\n",
    "sys.path.append(os.pardir)  # 부모 디렉터리의 파일을 가져올 수 있도록 설정\n",
    "import numpy as np\n",
    "from common.functions import softmax, cross_entropy_error\n",
    "from common.gradient import numerical_gradient\n",
    "\n",
    "\n",
    "class simpleNet:\n",
    "    def __init__(self):\n",
    "        self.W = np.random.randn(2,3) # 정규분포로 초기화\n",
    "\n",
    "    def predict(self, x):\n",
    "        return np.dot(x, self.W)\n",
    "\n",
    "    def loss(self, x, t):\n",
    "        z = self.predict(x)\n",
    "        y = softmax(z)\n",
    "        loss = cross_entropy_error(y, t)\n",
    "\n",
    "        return loss"
   ]
  },
  {
   "cell_type": "code",
   "execution_count": 24,
   "id": "21156bd2",
   "metadata": {},
   "outputs": [
    {
     "name": "stdout",
     "output_type": "stream",
     "text": [
      "[[-1.15013607 -0.08359888 -0.18532559]\n",
      " [ 1.69429504  0.8495632   0.2796787 ]]\n"
     ]
    }
   ],
   "source": [
    "net=simpleNet()\n",
    "print(net.W)"
   ]
  },
  {
   "cell_type": "code",
   "execution_count": 25,
   "id": "e6c534f7",
   "metadata": {},
   "outputs": [
    {
     "name": "stdout",
     "output_type": "stream",
     "text": [
      "[0.83478389 0.71444755 0.14051547]\n"
     ]
    }
   ],
   "source": [
    "x=np.array([0.6,0.9])\n",
    "p=net.predict(x)\n",
    "print(p)"
   ]
  },
  {
   "cell_type": "code",
   "execution_count": 26,
   "id": "a7fcbb1d",
   "metadata": {},
   "outputs": [
    {
     "data": {
      "text/plain": [
       "1.5639121968719452"
      ]
     },
     "execution_count": 26,
     "metadata": {},
     "output_type": "execute_result"
    }
   ],
   "source": [
    "np.argmax(p) #최댓값의 인덱스\n",
    "t=np.array([0,0,1])\n",
    "net.loss(x,t)"
   ]
  },
  {
   "cell_type": "code",
   "execution_count": 27,
   "id": "078ca5b7",
   "metadata": {},
   "outputs": [
    {
     "name": "stdout",
     "output_type": "stream",
     "text": [
      "[[ 0.25146025  0.22295023 -0.47441048]\n",
      " [ 0.37719037  0.33442535 -0.71161572]]\n"
     ]
    }
   ],
   "source": [
    "def f(W):\n",
    "    return net.loss(x,t)\n",
    "dW=numerical_gradient(f,net.W)\n",
    "print(dW)"
   ]
  },
  {
   "cell_type": "markdown",
   "id": "7ce4e287",
   "metadata": {},
   "source": [
    "#### 학습 알고리즘 구현하기"
   ]
  },
  {
   "cell_type": "markdown",
   "id": "23ed39dc",
   "metadata": {},
   "source": [
    "경사 하강법으로 매개변수를 갱신하는 방법: SGD(확률적 경사 하강법)\n",
    "1. 미니배치 : 훈련 데이터 중 일부를 무작위로 가져온다. 미니배치의 손실 함수 값을 줄이는 것을 목표로한다\n",
    "2. 기울기 산출: 미니배치의 손실 함수 값을 줄이기 위해 각 가중치 매개변수의 기울기를 구한다.\n",
    "3. 매개변수 갱신: 가중치 매개변수를 기울기 방향으로 아주 조금 갱신한다.\n",
    "4. 반복: 1~3을 반복한다.\n"
   ]
  },
  {
   "cell_type": "markdown",
   "id": "567a69c4",
   "metadata": {},
   "source": [
    "#### 2층 신경망 클래스 구현하기"
   ]
  },
  {
   "cell_type": "code",
   "execution_count": 28,
   "id": "edd64f9f",
   "metadata": {},
   "outputs": [],
   "source": [
    "import sys, os\n",
    "sys.path.append(os.pardir)  # 부모 디렉터리의 파일을 가져올 수 있도록 설정\n",
    "from common.functions import *\n",
    "from common.gradient import numerical_gradient\n",
    "\n",
    "\n",
    "class TwoLayerNet:\n",
    "\n",
    "    def __init__(self, input_size, hidden_size, output_size, weight_init_std=0.01):\n",
    "        # 가중치 초기화\n",
    "        self.params = {}\n",
    "        self.params['W1'] = weight_init_std * np.random.randn(input_size, hidden_size)\n",
    "        self.params['b1'] = np.zeros(hidden_size)\n",
    "        self.params['W2'] = weight_init_std * np.random.randn(hidden_size, output_size)\n",
    "        self.params['b2'] = np.zeros(output_size)\n",
    "\n",
    "    def predict(self, x):\n",
    "        W1, W2 = self.params['W1'], self.params['W2']\n",
    "        b1, b2 = self.params['b1'], self.params['b2']\n",
    "    \n",
    "        a1 = np.dot(x, W1) + b1\n",
    "        z1 = sigmoid(a1)\n",
    "        a2 = np.dot(z1, W2) + b2\n",
    "        y = softmax(a2)\n",
    "        \n",
    "        return y\n",
    "        \n",
    "    # x : 입력 데이터, t : 정답 레이블\n",
    "    def loss(self, x, t):\n",
    "        y = self.predict(x)\n",
    "        \n",
    "        return cross_entropy_error(y, t)\n",
    "    \n",
    "    def accuracy(self, x, t):\n",
    "        y = self.predict(x)\n",
    "        y = np.argmax(y, axis=1)\n",
    "        t = np.argmax(t, axis=1)\n",
    "        \n",
    "        accuracy = np.sum(y == t) / float(x.shape[0])\n",
    "        return accuracy\n",
    "        \n",
    "    # x : 입력 데이터, t : 정답 레이블\n",
    "    def numerical_gradient(self, x, t):\n",
    "        loss_W = lambda W: self.loss(x, t)\n",
    "        \n",
    "        grads = {}\n",
    "        grads['W1'] = numerical_gradient(loss_W, self.params['W1'])\n",
    "        grads['b1'] = numerical_gradient(loss_W, self.params['b1'])\n",
    "        grads['W2'] = numerical_gradient(loss_W, self.params['W2'])\n",
    "        grads['b2'] = numerical_gradient(loss_W, self.params['b2'])\n",
    "        \n",
    "        return grads\n",
    "        \n",
    "    def gradient(self, x, t):\n",
    "        W1, W2 = self.params['W1'], self.params['W2']\n",
    "        b1, b2 = self.params['b1'], self.params['b2']\n",
    "        grads = {}\n",
    "        \n",
    "        batch_num = x.shape[0]\n",
    "        \n",
    "        # forward\n",
    "        a1 = np.dot(x, W1) + b1\n",
    "        z1 = sigmoid(a1)\n",
    "        a2 = np.dot(z1, W2) + b2\n",
    "        y = softmax(a2)\n",
    "        \n",
    "        # backward\n",
    "        dy = (y - t) / batch_num\n",
    "        grads['W2'] = np.dot(z1.T, dy)\n",
    "        grads['b2'] = np.sum(dy, axis=0)\n",
    "        \n",
    "        da1 = np.dot(dy, W2.T)\n",
    "        dz1 = sigmoid_grad(a1) * da1\n",
    "        grads['W1'] = np.dot(x.T, dz1)\n",
    "        grads['b1'] = np.sum(dz1, axis=0)\n",
    "\n",
    "        return grads\n"
   ]
  },
  {
   "cell_type": "markdown",
   "id": "33e9307d",
   "metadata": {},
   "source": [
    "#### TwoLayerNet 클래스가 사용하는 변수\n",
    "|변수|설명|\n",
    "|:------|--------:|\n",
    "|params|신경망의 매개변수를 보관하는 딕셔너리 변수(인스턴트 변수)|\n",
    "|grads|기울기를 보관하는 딕셔너리 변수(numerical_gradient() 매서드의 반환 값|"
   ]
  },
  {
   "cell_type": "markdown",
   "id": "05460314",
   "metadata": {},
   "source": [
    "#### TwoLayerNet 클래스의 메서드\n",
    "|메서드|설명|\n",
    "|:------|--------:|\n",
    "|__init__(self,input_size,hidden_size,output_size) |초기화를 수행한다. 인수는 순서대로 입력층의 뉴런 수, 은닉층의 뉴런 수, 출력층의 뉴런 수|\n",
    "|predict(self,x)|예측(추론)을 수행한다. 인수x는 이미지 데이터|\n",
    "|loss(self,x,t)|손실 함수의 값을 구한다. 인수x는 이미지 데이터, 인수t는 정답 레이블|\n",
    "|accuracy(self,x,t)|정확도를 구한다.|\n",
    "|numerical_gradient|가중치 매개변수의 기울기를 구한다|"
   ]
  },
  {
   "cell_type": "code",
   "execution_count": 29,
   "id": "1cf77584",
   "metadata": {},
   "outputs": [
    {
     "name": "stdout",
     "output_type": "stream",
     "text": [
      "(784, 100)\n",
      "(100,)\n",
      "(100, 10)\n",
      "(10,)\n"
     ]
    }
   ],
   "source": [
    "net=TwoLayerNet(input_size=784,hidden_size=100,output_size=10)\n",
    "print(net.params['W1'].shape)\n",
    "print(net.params['b1'].shape)\n",
    "print(net.params['W2'].shape)\n",
    "print(net.params['b2'].shape)"
   ]
  },
  {
   "cell_type": "markdown",
   "id": "2114f65d",
   "metadata": {},
   "source": [
    "#### 미니배치 학습 구현하기"
   ]
  },
  {
   "cell_type": "code",
   "execution_count": 30,
   "id": "4d901667",
   "metadata": {},
   "outputs": [
    {
     "name": "stdout",
     "output_type": "stream",
     "text": [
      "train acc, test acc | 0.11393333333333333, 0.1147\n",
      "train acc, test acc | 0.7985, 0.8043\n",
      "train acc, test acc | 0.8793666666666666, 0.8843\n",
      "train acc, test acc | 0.90005, 0.9039\n",
      "train acc, test acc | 0.9091833333333333, 0.9132\n",
      "train acc, test acc | 0.9161166666666667, 0.9172\n",
      "train acc, test acc | 0.9214166666666667, 0.9243\n",
      "train acc, test acc | 0.9243833333333333, 0.9274\n",
      "train acc, test acc | 0.9292166666666667, 0.9318\n",
      "train acc, test acc | 0.9317833333333333, 0.9343\n",
      "train acc, test acc | 0.9346333333333333, 0.9356\n",
      "train acc, test acc | 0.93675, 0.9376\n",
      "train acc, test acc | 0.9389, 0.9401\n",
      "train acc, test acc | 0.9408333333333333, 0.9411\n",
      "train acc, test acc | 0.9430166666666666, 0.9425\n",
      "train acc, test acc | 0.9446833333333333, 0.9447\n",
      "train acc, test acc | 0.9468833333333333, 0.9446\n"
     ]
    },
    {
     "data": {
      "image/png": "[encoded data removed]",
      "text/plain": [
       "<Figure size 432x288 with 1 Axes>"
      ]
     },
     "metadata": {
      "needs_background": "light"
     },
     "output_type": "display_data"
    }
   ],
   "source": [
    "# coding: utf-8\n",
    "import sys, os\n",
    "sys.path.append(os.pardir)  # 부모 디렉터리의 파일을 가져올 수 있도록 설정\n",
    "import numpy as np\n",
    "import matplotlib.pyplot as plt\n",
    "from dataset.mnist import load_mnist\n",
    "\n",
    "\n",
    "# 데이터 읽기\n",
    "(x_train, t_train), (x_test, t_test) = load_mnist(normalize=True, one_hot_label=True)\n",
    "\n",
    "network = TwoLayerNet(input_size=784, hidden_size=50, output_size=10)\n",
    "\n",
    "# 하이퍼파라미터\n",
    "iters_num = 10000  # 반복 횟수를 적절히 설정한다.\n",
    "train_size = x_train.shape[0]\n",
    "batch_size = 100   # 미니배치 크기\n",
    "learning_rate = 0.1\n",
    "\n",
    "train_loss_list = []\n",
    "train_acc_list = []\n",
    "test_acc_list = []\n",
    "\n",
    "# 1에폭당 반복 수\n",
    "iter_per_epoch = max(train_size / batch_size, 1)\n",
    "\n",
    "for i in range(iters_num):\n",
    "    # 미니배치 획득\n",
    "    batch_mask = np.random.choice(train_size, batch_size)\n",
    "    x_batch = x_train[batch_mask]\n",
    "    t_batch = t_train[batch_mask]\n",
    "    \n",
    "    # 기울기 계산\n",
    "    #grad = network.numerical_gradient(x_batch, t_batch)\n",
    "    grad = network.gradient(x_batch, t_batch)\n",
    "    \n",
    "    # 매개변수 갱신\n",
    "    for key in ('W1', 'b1', 'W2', 'b2'):\n",
    "        network.params[key] -= learning_rate * grad[key]\n",
    "    \n",
    "    # 학습 경과 기록\n",
    "    loss = network.loss(x_batch, t_batch)\n",
    "    train_loss_list.append(loss)\n",
    "    \n",
    "    # 1에폭당 정확도 계산\n",
    "    if i % iter_per_epoch == 0:\n",
    "        train_acc = network.accuracy(x_train, t_train)\n",
    "        test_acc = network.accuracy(x_test, t_test)\n",
    "        train_acc_list.append(train_acc)\n",
    "        test_acc_list.append(test_acc)\n",
    "        print(\"train acc, test acc | \" + str(train_acc) + \", \" + str(test_acc))\n",
    "\n",
    "# 그래프 그리기\n",
    "markers = {'train': 'o', 'test': 's'}\n",
    "x = np.arange(len(train_acc_list))\n",
    "plt.plot(x, train_acc_list, label='train acc')\n",
    "plt.plot(x, test_acc_list, label='test acc', linestyle='--')\n",
    "plt.xlabel(\"epochs\")\n",
    "plt.ylabel(\"accuracy\")\n",
    "plt.ylim(0, 1.0)\n",
    "plt.legend(loc='lower right')\n",
    "plt.show()\n"
   ]
  }
 ],
 "metadata": {
  "kernelspec": {
   "display_name": "Python 3 (ipykernel)",
   "language": "python",
   "name": "python3"
  },
  "language_info": {
   "codemirror_mode": {
    "name": "ipython",
    "version": 3
   },
   "file_extension": ".py",
   "mimetype": "text/x-python",
   "name": "python",
   "nbconvert_exporter": "python",
   "pygments_lexer": "ipython3",
   "version": "3.9.7"
  }
 },
 "nbformat": 4,
 "nbformat_minor": 5
}
