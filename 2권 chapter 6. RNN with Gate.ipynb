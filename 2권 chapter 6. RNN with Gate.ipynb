{
 "cells": [
  {
   "cell_type": "markdown",
   "id": "22d78bad",
   "metadata": {},
   "source": [
    "### 기본적인 RNN의 문제점\n",
    "\n",
    "- RNN은 장기 의존 관계를 잘 학습할 수 없음\n",
    "- BPTT에서 기울기 소실 or 기울기 폭발"
   ]
  },
  {
   "cell_type": "markdown",
   "id": "7bbff3c7",
   "metadata": {},
   "source": [
    "RNN계층에서는 주로 활성화 함수로 tanh(x)를 사용한다."
   ]
  },
  {
   "cell_type": "code",
   "execution_count": 5,
   "id": "8c98bdd3",
   "metadata": {},
   "outputs": [
    {
     "data": {
      "image/png": "[encoded data removed]",
      "text/plain": [
       "<Figure size 432x288 with 1 Axes>"
      ]
     },
     "metadata": {
      "needs_background": "light"
     },
     "output_type": "display_data"
    }
   ],
   "source": [
    "import numpy as np\n",
    "import matplotlib.pyplot as plt\n",
    "\n",
    "x=np.arange(-4,4,0.1)\n",
    "\n",
    "\n",
    "plt.plot(x,np.tanh(x),'r',x,(1-(np.tanh(x)**2)),'g--')\n",
    "plt.show()"
   ]
  },
  {
   "cell_type": "markdown",
   "id": "6806a25d",
   "metadata": {},
   "source": [
    "실선은 tanh(x)이고 점선은 tanh(x)의 미분이다. 그 값은 1.0 이하이고 x가 0으로 부터 멀어질 수록 그 값은 작아진다. 그래서 tanh(x)함수를 T번 통과하면 그 기울도 T번 반복해서 줄어든다."
   ]
  },
  {
   "cell_type": "markdown",
   "id": "e3287bbf",
   "metadata": {},
   "source": [
    "또한 RNN계층의 역전파에서는 matmul도 통과한다. 이때 상류로부터 $dh$라는 기울기 흘러온다고 가정하면 matmul 노드의 역전파는 $dhW_h^T$라는 행렬 곱으로 기울기를 계산한다. 같은 계산을 시계열 데이터의 시간 크기만큼 반복한다. 매번 똑같은 가중치 $W_h$를 사용.\n",
    "- 그 결과는 행렬의 특잇값이 1보다 크면 '기울기 폭발'을 일으키고 1보다 작으면 '기울기 소실'을 일으킨다."
   ]
  },
  {
   "cell_type": "code",
   "execution_count": null,
   "id": "f5457222",
   "metadata": {},
   "outputs": [],
   "source": [
    "# 기울기 폭발의 대책 : 기울기 클리핑\n",
    "\n",
    "def clip_grads(grads,max_norm):\n",
    "    total_norm=0\n",
    "    for grad in grads:\n",
    "        total_norm+=np.sum(grad**2)\n",
    "    total_norm=np.sqrt(total_norm)\n",
    "    \n",
    "    rate=max_norm/(total_norm+1e-6)\n",
    "    if rate<1:\n",
    "        for grad in grads:\n",
    "            grad*=rate"
   ]
  },
  {
   "cell_type": "markdown",
   "id": "7a32b99a",
   "metadata": {},
   "source": [
    "### LSTM"
   ]
  },
  {
   "cell_type": "code",
   "execution_count": null,
   "id": "6fd2d689",
   "metadata": {},
   "outputs": [],
   "source": [
    "class LSTM:\n",
    "    def __init__(self,Wx,Wh,b):\n",
    "        self.params=[Wx,Wh,b]\n",
    "        self.grads=[np.zeros_like(Wx),np.zeros_like(Wh),np.zeros_like(b)]\n",
    "        self.cache=None\n",
    "        \n",
    "    def forward(self,x,h_prev,c_prev):\n",
    "        Wx,Wh,b=self.params\n",
    "        N,H=h_prev.shape\n",
    "        \n",
    "        A=np.matmul(x,Wx)+np.matmul(h_prev,Wh)+b\n",
    "        \n",
    "        f=A[:,:H]\n",
    "        g=A[:,H:2*H]\n",
    "        i=A[:,2*H:3*H]\n",
    "        o=A[:,3*H:]\n",
    "        \n",
    "        f=sigmoid(f)\n",
    "        g=np.tanh(g)\n",
    "        i=sigmoid(i)\n",
    "        o=sigmoid(o)\n",
    "        \n",
    "        c_next=f*c_prev+g*i\n",
    "        h_next=o*np.tanh(c_next)\n",
    "        \n",
    "        self.cache(x,h_prev,c_prev,i,f,g,o,c_next)\n",
    "        return h_next,c_next"
   ]
  },
  {
   "cell_type": "code",
   "execution_count": null,
   "id": "cc834401",
   "metadata": {},
   "outputs": [],
   "source": []
  }
 ],
 "metadata": {
  "kernelspec": {
   "display_name": "Python 3 (ipykernel)",
   "language": "python",
   "name": "python3"
  },
  "language_info": {
   "codemirror_mode": {
    "name": "ipython",
    "version": 3
   },
   "file_extension": ".py",
   "mimetype": "text/x-python",
   "name": "python",
   "nbconvert_exporter": "python",
   "pygments_lexer": "ipython3",
   "version": "3.9.12"
  }
 },
 "nbformat": 4,
 "nbformat_minor": 5
}
